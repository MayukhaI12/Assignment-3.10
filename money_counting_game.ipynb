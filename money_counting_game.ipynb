{
  "nbformat": 4,
  "nbformat_minor": 0,
  "metadata": {
    "colab": {
      "provenance": [],
      "collapsed_sections": [],
      "authorship_tag": "ABX9TyP/MrcmDPsdvkOyP0wNEQzx",
      "include_colab_link": true
    },
    "kernelspec": {
      "name": "python3",
      "display_name": "Python 3"
    },
    "language_info": {
      "name": "python"
    }
  },
  "cells": [
    {
      "cell_type": "markdown",
      "metadata": {
        "id": "view-in-github",
        "colab_type": "text"
      },
      "source": [
        "<a href=\"https://colab.research.google.com/github/MayukhaI12/Assignment-3.10/blob/Master/money_counting_game.ipynb\" target=\"_parent\"><img src=\"https://colab.research.google.com/assets/colab-badge.svg\" alt=\"Open In Colab\"/></a>"
      ]
    },
    {
      "cell_type": "code",
      "execution_count": null,
      "metadata": {
        "colab": {
          "base_uri": "https://localhost:8080/"
        },
        "id": "l2woSAurOnMm",
        "outputId": "f520b0b6-4b19-475d-bb0b-afb8657c821e"
      },
      "outputs": [
        {
          "output_type": "stream",
          "name": "stdout",
          "text": [
            "Enter the number of pennies to make a dollar: 10\n",
            "Enter the number of nickels to make a dollar: 2\n",
            "Enter the number of dimes to make a dollar: 10\n",
            "Enter the number of quarters to make a dollar: 4\n",
            "The value of the number you entered is larger than a dollar. You lost.\n",
            "Total Number of Cents 220\n"
          ]
        }
      ],
      "source": [
        "#####################\n",
        "# Assignment 2: 3.10#\n",
        "# Date: 9/27/2022   #\n",
        "#####################\n",
        "'''\n",
        "Money Counting Game\n",
        "Create a change-counting game that gets the user to enter the number of coins required to make\n",
        "exactly one dollar. The program should prompt the user to enter the number of pennies, nickels,\n",
        "dimes, and quarters. If the total value of the coins entered is equal to one dollar, the program\n",
        "should congratulate the user for winning the game. Otherwise, the program should display a\n",
        "message indicating whether the amount entered was more than or less than one dollar.\n",
        "'''\n",
        "########################################################################\n",
        "\n",
        "# Enter the total number Pennies, Nickels, Dimes and Quarters to make a dollar.\n",
        "pennies = int(input(\"Enter the number of pennies to make a dollar: \"))\n",
        "nickels = int(input(\"Enter the number of nickels to make a dollar: \"))\n",
        "dimes = int(input(\"Enter the number of dimes to make a dollar: \"))\n",
        "quarters = int(input(\"Enter the number of quarters to make a dollar: \"))\n",
        "\n",
        "# Calculating the total number of cents.\n",
        "total_cents = pennies + (nickels*5) + (dimes*10) + (quarters*25)\n",
        "\n",
        "# Checking to see if the total number of cents is equal to a dollar or not.\n",
        "if (total_cents == 100):\n",
        "  print(\"Congrats! You won the game!\")\n",
        "\n",
        "elif (total_cents > 100):\n",
        "  print(\"The value of the number you entered is larger than a dollar. You lost.\")\n",
        "\n",
        "else :\n",
        "  print(\"The value of the number you entered is smaller than a dollar. You lost.\")"
      ]
    }
  ]
}