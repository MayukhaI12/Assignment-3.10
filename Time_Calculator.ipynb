{
  "nbformat": 4,
  "nbformat_minor": 0,
  "metadata": {
    "colab": {
      "provenance": [],
      "collapsed_sections": [],
      "authorship_tag": "ABX9TyOQoly/OWr3lMTWLGxA5lHS",
      "include_colab_link": true
    },
    "kernelspec": {
      "name": "python3",
      "display_name": "Python 3"
    },
    "language_info": {
      "name": "python"
    }
  },
  "cells": [
    {
      "cell_type": "markdown",
      "metadata": {
        "id": "view-in-github",
        "colab_type": "text"
      },
      "source": [
        "<a href=\"https://colab.research.google.com/github/MayukhaI12/Assignment-3.10/blob/Master/Time_Calculator.ipynb\" target=\"_parent\"><img src=\"https://colab.research.google.com/assets/colab-badge.svg\" alt=\"Open In Colab\"/></a>"
      ]
    },
    {
      "cell_type": "code",
      "execution_count": 17,
      "metadata": {
        "colab": {
          "base_uri": "https://localhost:8080/"
        },
        "id": "_Tza6Bdje9lr",
        "outputId": "d6444026-5f4d-44b5-96a7-77fdba78e213"
      },
      "outputs": [
        {
          "output_type": "stream",
          "name": "stdout",
          "text": [
            "Enter the number of seconds: 75\n",
            "The number of minute(s) equivalent to 75 seconds is 1 minutes, 15 seconds.\n"
          ]
        }
      ],
      "source": [
        "#####################\n",
        "# Assignment 2: 3.15#\n",
        "# Date: 9/28/2022   #\n",
        "#####################\n",
        "'''\n",
        "Time Calculator\n",
        "Write a program that asks the user to enter a number of seconds and works as follows:\n",
        "There are 60 seconds in a minute. If the number of seconds entered by the user is greater\n",
        "than or equal to 60, the program should convert the number of seconds to minutes and\n",
        "seconds.\n",
        "There are 3,600 seconds in an hour. If the number of seconds entered by the user is greater\n",
        "than or equal to 3,600, the program should convert the number of seconds to hours,\n",
        "minutes, and seconds.\n",
        "There are 86,400 seconds in a day. If the number of seconds entered by the user is greater\n",
        "than or equal to 86,400, the program should convert the number of seconds to days, hours,\n",
        "minutes, and seconds.\n",
        "'''\n",
        "########################################################################\n",
        "\n",
        "#Enter the number of seconds.\n",
        "total_seconds = int(input(\"Enter the number of seconds: \"))\n",
        "\n",
        "#Calculating the total number of minutes hours and/or days from the number of seconds entered.\n",
        "if (total_seconds >= 60 and total_seconds < 3600):\n",
        "  minutes = int((total_seconds / 60))\n",
        "  remainder_seconds = int((total_seconds % 60))\n",
        "  print(\"The number of minute(s) equivalent to\" , total_seconds , \"seconds is\" , minutes , \"minutes,\" , remainder_seconds , \"seconds.\")   \n",
        "  \n",
        "elif (total_seconds >= 3600 and total_seconds < 86400):\n",
        "  hours = int((total_seconds / 3600))\n",
        "  remainder_seconds = int((total_seconds % 3600))\n",
        "  minutes = int((remainder_seconds / 60))\n",
        "  remainder_seconds = int((remainder_seconds % 60))\n",
        "  print(\"The number of hour(s) equivanlent to\" , total_seconds , \"seconds is\" , hours , \"hours,\", minutes , \"minutes, and\" , remainder_seconds , \"seconds.\")\n",
        "\n",
        "elif (total_seconds >= 86400):\n",
        "  days = int((total_seconds / 86400))\n",
        "  remainder_seconds = int((total_seconds % 86400))\n",
        "  hours = int((remainder_seconds / 3600))\n",
        "  remainder_seconds = int((remainder_seconds % 3600))\n",
        "  minutes = int((remainder_seconds / 60))\n",
        "  remainder_seconds = int((remainder_seconds % 60))\n",
        "  print(\"The number of days(s) equivanlent to\" , total_seconds , \"seconds is\" , days , \"days\", hours , \"hours,\", minutes , \"minutes and\" , remainder_seconds , \"seconds.\")"
      ]
    }
  ]
}